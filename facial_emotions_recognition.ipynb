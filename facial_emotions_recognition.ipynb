{
 "cells": [
  {
   "cell_type": "code",
   "execution_count": 2,
   "metadata": {
    "colab": {
     "base_uri": "https://localhost:8080/"
    },
    "id": "kMusttd6fA5I",
    "outputId": "19c605ba-70a7-464a-9d11-e150037fc880"
   },
   "outputs": [
    {
     "name": "stdout",
     "output_type": "stream",
     "text": [
      "Cloning into 'facial_expressions'...\n",
      "remote: Enumerating objects: 14214, done.\u001b[K\n",
      "remote: Total 14214 (delta 0), reused 0 (delta 0), pack-reused 14214\u001b[K\n",
      "Receiving objects: 100% (14214/14214), 239.65 MiB | 22.17 MiB/s, done.\n",
      "Resolving deltas: 100% (223/223), done.\n",
      "Updating files: 100% (13996/13996), done.\n"
     ]
    }
   ],
   "source": [
    "# clonging the repo for dataset\n",
    "!git clone 'https://github.com/muxspace/facial_expressions'"
   ]
  },
  {
   "cell_type": "code",
   "execution_count": 6,
   "metadata": {
    "id": "NmOS0aJdgA3-"
   },
   "outputs": [],
   "source": [
    "# mapping emotions and images from legend.csv file\n",
    "import csv\n",
    "data = {}\n",
    "with open('/content/facial_expressions/data/legend.csv') as f:\n",
    "  reader = csv.reader(f)\n",
    "  next(reader)\n",
    "  for row in reader:\n",
    "    key = row[2].lower()\n",
    "    if key in data:\n",
    "      data[key].append(row[1])\n",
    "    else:\n",
    "      data[key] = [row[1]]\n"
   ]
  },
  {
   "cell_type": "code",
   "execution_count": 7,
   "metadata": {
    "colab": {
     "base_uri": "https://localhost:8080/"
    },
    "id": "b0gwqzadhuiz",
    "outputId": "9b391ce1-89f3-4d8e-f27a-d13d965bb936"
   },
   "outputs": [
    {
     "data": {
      "text/plain": [
       "['anger',\n",
       " 'surprise',\n",
       " 'disgust',\n",
       " 'fear',\n",
       " 'neutral',\n",
       " 'happiness',\n",
       " 'sadness',\n",
       " 'contempt']"
      ]
     },
     "execution_count": 7,
     "metadata": {},
     "output_type": "execute_result"
    }
   ],
   "source": [
    "emotion_list = list(data.keys())\n",
    "emotion_list"
   ]
  },
  {
   "cell_type": "code",
   "execution_count": 10,
   "metadata": {
    "id": "PJaR6DQ2ldxx"
   },
   "outputs": [],
   "source": [
    "# splitting data to training and testing\n",
    "import os\n",
    "os.mkdir('master_data')\n",
    "os.mkdir('master_data/training')\n",
    "os.mkdir('master_data/testing')"
   ]
  },
  {
   "cell_type": "code",
   "execution_count": 11,
   "metadata": {
    "id": "-eUzWl3sl-00"
   },
   "outputs": [],
   "source": [
    "for emotion in emotion_list:\n",
    "  os.mkdir(os.path.join('master_data/training/',emotion))\n",
    "  os.mkdir(os.path.join('master_data/testing/',emotion))"
   ]
  },
  {
   "cell_type": "code",
   "execution_count": 12,
   "metadata": {
    "id": "A7qrPySNmema"
   },
   "outputs": [],
   "source": [
    "from shutil import copyfile\n",
    "split_size = 0.8\n",
    "\n",
    "for emotion, images in data.items():\n",
    "  train_size = int(split_size*len(images))\n",
    "  train_images = images[:train_size]\n",
    "  test_images = images[train_size:]\n",
    "\n",
    "  for image in train_images:\n",
    "    src = os.path.join('/content/facial_expressions/images', image)\n",
    "    des = os.path.join('master_data/training/',emotion, image)\n",
    "    copyfile(src,des)\n",
    "  for image in test_images:\n",
    "    src = os.path.join('/content/facial_expressions/images', image)\n",
    "    des = os.path.join('master_data/testing/',emotion, image)\n",
    "    copyfile(src,des)"
   ]
  },
  {
   "cell_type": "code",
   "execution_count": 15,
   "metadata": {
    "id": "-qfh8IQBqZxT"
   },
   "outputs": [],
   "source": [
    "import tensorflow as tf\n",
    "from tensorflow.keras.preprocessing.image import ImageDataGenerator\n",
    "from tensorflow.keras.optimizers import Adam\n",
    "from tensorflow.keras.callbacks import EarlyStopping\n",
    "from tensorflow.keras.layers import Conv2D, MaxPooling2D, Dense, Flatten"
   ]
  },
  {
   "cell_type": "code",
   "execution_count": 18,
   "metadata": {
    "colab": {
     "base_uri": "https://localhost:8080/"
    },
    "id": "l3ClbNN0sRI8",
    "outputId": "90ef49c7-270c-4923-d150-2d0dbdb880c5"
   },
   "outputs": [
    {
     "name": "stderr",
     "output_type": "stream",
     "text": [
      "WARNING:absl:`lr` is deprecated in Keras optimizer, please use `learning_rate` or use the legacy optimizer, e.g.,tf.keras.optimizers.legacy.Adam.\n"
     ]
    },
    {
     "name": "stdout",
     "output_type": "stream",
     "text": [
      "Model: \"sequential_2\"\n",
      "_________________________________________________________________\n",
      " Layer (type)                Output Shape              Param #   \n",
      "=================================================================\n",
      " conv2d_7 (Conv2D)           (None, 98, 98, 16)        448       \n",
      "                                                                 \n",
      " max_pooling2d_6 (MaxPoolin  (None, 49, 49, 16)        0         \n",
      " g2D)                                                            \n",
      "                                                                 \n",
      " conv2d_8 (Conv2D)           (None, 47, 47, 32)        4640      \n",
      "                                                                 \n",
      " max_pooling2d_7 (MaxPoolin  (None, 23, 23, 32)        0         \n",
      " g2D)                                                            \n",
      "                                                                 \n",
      " conv2d_9 (Conv2D)           (None, 21, 21, 64)        18496     \n",
      "                                                                 \n",
      " max_pooling2d_8 (MaxPoolin  (None, 10, 10, 64)        0         \n",
      " g2D)                                                            \n",
      "                                                                 \n",
      " flatten_2 (Flatten)         (None, 6400)              0         \n",
      "                                                                 \n",
      " dense_4 (Dense)             (None, 512)               3277312   \n",
      "                                                                 \n",
      " dense_5 (Dense)             (None, 8)                 4104      \n",
      "                                                                 \n",
      "=================================================================\n",
      "Total params: 3305000 (12.61 MB)\n",
      "Trainable params: 3305000 (12.61 MB)\n",
      "Non-trainable params: 0 (0.00 Byte)\n",
      "_________________________________________________________________\n"
     ]
    }
   ],
   "source": [
    "from tensorflow.keras.losses import categorical_crossentropy\n",
    "# building and compiling model using CNN\n",
    "model = tf.keras.models.Sequential(\n",
    "    [\n",
    "        Conv2D(16, (3,3), activation = 'relu', input_shape = (100,100,3)),\n",
    "        MaxPooling2D(2,2),\n",
    "        Conv2D(32, (3,3), activation = 'relu'),\n",
    "        MaxPooling2D(2,2),\n",
    "        Conv2D(64, (3,3), activation = 'relu'),\n",
    "        MaxPooling2D(2,2),\n",
    "        Flatten(),\n",
    "        Dense(512, activation = 'relu'),\n",
    "        Dense(8, activation = 'softmax')\n",
    "    ]\n",
    ")\n",
    "model.compile(optimizer = Adam(lr = 0.01), loss = categorical_crossentropy, metrics = ['acc'])\n",
    "model.summary()"
   ]
  },
  {
   "cell_type": "code",
   "execution_count": 20,
   "metadata": {
    "colab": {
     "base_uri": "https://localhost:8080/"
    },
    "id": "oFc0qhYwwCW2",
    "outputId": "a895acb3-1d32-4513-8d86-1ca47accc783"
   },
   "outputs": [
    {
     "name": "stdout",
     "output_type": "stream",
     "text": [
      "Found 10941 images belonging to 8 classes.\n",
      "Found 2742 images belonging to 8 classes.\n"
     ]
    }
   ],
   "source": [
    "train_dir = '/content/master_data/training'\n",
    "test_dir = '/content/master_data/testing'\n",
    "\n",
    "train_datagen = ImageDataGenerator(rescale = 1.0/255)\n",
    "train_generator = train_datagen.flow_from_directory(\n",
    "    train_dir, target_size = (100,100), class_mode = 'categorical',\n",
    "    batch_size = 128\n",
    ")\n",
    "\n",
    "test_datagen = ImageDataGenerator(rescale = 1.0/255)\n",
    "test_generator = test_datagen.flow_from_directory(\n",
    "    test_dir, target_size = (100,100), class_mode = 'categorical',\n",
    "    batch_size = 128\n",
    ")"
   ]
  },
  {
   "cell_type": "code",
   "execution_count": 21,
   "metadata": {
    "id": "uDLGc7d8xX9f"
   },
   "outputs": [],
   "source": [
    "# to prevent the model from unnecessary training\n",
    "es = EarlyStopping(monitor = 'val_acc', patience = 2, min_delta = 0.01)"
   ]
  },
  {
   "cell_type": "code",
   "execution_count": 23,
   "metadata": {
    "colab": {
     "base_uri": "https://localhost:8080/"
    },
    "id": "xVdkIKoix7_r",
    "outputId": "a9a0a096-7b8e-416c-a9dc-d4a8de7702fa"
   },
   "outputs": [
    {
     "name": "stderr",
     "output_type": "stream",
     "text": [
      "<ipython-input-23-3ea39573b049>:1: UserWarning: `Model.fit_generator` is deprecated and will be removed in a future version. Please use `Model.fit`, which supports generators.\n",
      "  model.fit_generator(train_generator, epochs = 10, verbose = 1, validation_data = test_generator, callbacks = [es])\n"
     ]
    },
    {
     "name": "stdout",
     "output_type": "stream",
     "text": [
      "Epoch 1/10\n",
      "86/86 [==============================] - 138s 2s/step - loss: 0.9573 - acc: 0.5998 - val_loss: 1.3477 - val_acc: 0.6327\n",
      "Epoch 2/10\n",
      "86/86 [==============================] - 120s 1s/step - loss: 0.5905 - acc: 0.7984 - val_loss: 1.5330 - val_acc: 0.6681\n",
      "Epoch 3/10\n",
      "86/86 [==============================] - 120s 1s/step - loss: 0.4919 - acc: 0.8283 - val_loss: 1.6240 - val_acc: 0.6853\n",
      "Epoch 4/10\n",
      "86/86 [==============================] - 130s 1s/step - loss: 0.4400 - acc: 0.8486 - val_loss: 1.6374 - val_acc: 0.6882\n",
      "Epoch 5/10\n",
      "86/86 [==============================] - 126s 1s/step - loss: 0.3866 - acc: 0.8649 - val_loss: 1.8187 - val_acc: 0.6842\n"
     ]
    },
    {
     "data": {
      "text/plain": [
       "<keras.src.callbacks.History at 0x785589ebe050>"
      ]
     },
     "execution_count": 23,
     "metadata": {},
     "output_type": "execute_result"
    }
   ],
   "source": [
    "model.fit_generator(train_generator, epochs = 10, verbose = 1, validation_data = test_generator, callbacks = [es])"
   ]
  }
 ],
 "metadata": {
  "colab": {
   "provenance": []
  },
  "kernelspec": {
   "display_name": "Python 3 (ipykernel)",
   "language": "python",
   "name": "python3"
  },
  "language_info": {
   "codemirror_mode": {
    "name": "ipython",
    "version": 3
   },
   "file_extension": ".py",
   "mimetype": "text/x-python",
   "name": "python",
   "nbconvert_exporter": "python",
   "pygments_lexer": "ipython3",
   "version": "3.11.5"
  }
 },
 "nbformat": 4,
 "nbformat_minor": 1
}
